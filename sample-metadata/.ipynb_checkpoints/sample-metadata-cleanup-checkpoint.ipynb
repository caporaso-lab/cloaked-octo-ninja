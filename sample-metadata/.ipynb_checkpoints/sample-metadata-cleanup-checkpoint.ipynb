{
 "metadata": {
  "name": ""
 },
 "nbformat": 3,
 "nbformat_minor": 0,
 "worksheets": [
  {
   "cells": [
    {
     "cell_type": "markdown",
     "metadata": {},
     "source": [
      "Notebook by [@gregcaporaso](http://github.com/gregcaporaso). The [Pandas Cookbook notebooks](https://github.com/jvns/pandas-cookbook/tree/master/) were helpful in putting this together.\n",
      "\n",
      "This notebook can be applied to inspect or clean up the sample metadata mapping files that are used in the analyses."
     ]
    },
    {
     "cell_type": "code",
     "collapsed": false,
     "input": [
      "import pandas as pd\n",
      "import matplotlib.pyplot as plt\n",
      "\n",
      "pd.set_option('display.mpl_style', 'default') # Make the graphs a bit prettier\n",
      "plt.rcParams['figure.figsize'] = (15, 5)"
     ],
     "language": "python",
     "metadata": {},
     "outputs": [],
     "prompt_number": 1
    },
    {
     "cell_type": "heading",
     "level": 2,
     "metadata": {},
     "source": [
      "Moving Pictures mapping file"
     ]
    },
    {
     "cell_type": "markdown",
     "metadata": {},
     "source": [
      "This mapping file was extracted from the [QIIME Database](http://microbio.me/qiime) (April 2014) from study id 550. No clean-up is necessary."
     ]
    },
    {
     "cell_type": "code",
     "collapsed": false,
     "input": [
      "moving_pictures_df = pd.read_csv('moving-pictures-map-raw.txt', sep='\\t', index_col='#SampleID', parse_dates=['COLLECTION_DATE'])\n",
      "print moving_pictures_df.BODY_SITE.unique()"
     ],
     "language": "python",
     "metadata": {},
     "outputs": [
      {
       "output_type": "stream",
       "stream": "stdout",
       "text": [
        "['UBERON:sebum' 'UBERON:saliva' 'UBERON:feces']\n"
       ]
      }
     ],
     "prompt_number": 2
    },
    {
     "cell_type": "code",
     "collapsed": false,
     "input": [
      "moving_pictures_df.to_csv('moving-pictures-map.txt', sep='\\t', index_col='#SampleID')"
     ],
     "language": "python",
     "metadata": {},
     "outputs": [],
     "prompt_number": 3
    },
    {
     "cell_type": "heading",
     "level": 2,
     "metadata": {},
     "source": [
      "88 soils mapping file"
     ]
    },
    {
     "cell_type": "markdown",
     "metadata": {},
     "source": [
      "This mapping file was extracted from the [QIIME Database](http://microbio.me/qiime) (April 2014) from study id 550. Here I add a binned pH column for categorical analysis of the pH data."
     ]
    },
    {
     "cell_type": "code",
     "collapsed": false,
     "input": [
      "soil_df = pd.read_csv('soils-map-raw.txt', sep='\\t', index_col='#SampleID', parse_dates=['COLLECTION_DATE'])\n",
      "print soil_df.PH.hist()"
     ],
     "language": "python",
     "metadata": {},
     "outputs": [
      {
       "output_type": "stream",
       "stream": "stdout",
       "text": [
        "Axes(0.125,0.125;0.775x0.775)\n"
       ]
      },
      {
       "metadata": {},
       "output_type": "display_data",
       "png": "[encoded data removed]",
       "text": [
        "<matplotlib.figure.Figure at 0x1079f95d0>"
       ]
      }
     ],
     "prompt_number": 4
    },
    {
     "cell_type": "code",
     "collapsed": false,
     "input": [
      "soil_df['ph_bin'] = pd.qcut(soil_df.PH, 5, labels=['acidic', 'acidic/neutral','neutral','basic/neutral','basic'])"
     ],
     "language": "python",
     "metadata": {},
     "outputs": [],
     "prompt_number": 5
    },
    {
     "cell_type": "code",
     "collapsed": false,
     "input": [
      "print soil_df['ph_bin']"
     ],
     "language": "python",
     "metadata": {},
     "outputs": [
      {
       "output_type": "stream",
       "stream": "stdout",
       "text": [
        "#SampleID\n",
        "IT2.141720    acidic/neutral\n",
        "HI3.141676     basic/neutral\n",
        "MD2.141689             basic\n",
        "CA1.141704     basic/neutral\n",
        "PE5.141692            acidic\n",
        "CO1.141714           neutral\n",
        "DF3.141696    acidic/neutral\n",
        "PE1.141715            acidic\n",
        "SP2.141678    acidic/neutral\n",
        "CO3.141651           neutral\n",
        "SA2.141687             basic\n",
        "CM1.141723             basic\n",
        "LQ2.141729    acidic/neutral\n",
        "SR2.141673             basic\n",
        "CR1.141682             basic\n",
        "...\n",
        "SR3.141674     basic/neutral\n",
        "CF3.141691            acidic\n",
        "SK2.141662           neutral\n",
        "AR1.141727           neutral\n",
        "BB2.141659    acidic/neutral\n",
        "GB3.141652     basic/neutral\n",
        "GB2.141732     basic/neutral\n",
        "PE3.141731            acidic\n",
        "MT1.141719     basic/neutral\n",
        "SP1.141656           neutral\n",
        "CL4.141667    acidic/neutral\n",
        "KP4.141733     basic/neutral\n",
        "VC2.141694           neutral\n",
        "CL2.141671           neutral\n",
        "SK1.141669    acidic/neutral\n",
        "Name: ph_bin, Length: 89, dtype: object\n"
       ]
      }
     ],
     "prompt_number": 6
    },
    {
     "cell_type": "code",
     "collapsed": false,
     "input": [
      "soil_df.to_csv('soils-map.txt', sep='\\t', index_col='#SampleID')"
     ],
     "language": "python",
     "metadata": {},
     "outputs": [],
     "prompt_number": 7
    },
    {
     "cell_type": "heading",
     "level": 2,
     "metadata": {},
     "source": [
      "Whole Body mapping file"
     ]
    },
    {
     "cell_type": "markdown",
     "metadata": {},
     "source": [
      "This mapping file was extracted from the [QIIME Database](http://microbio.me/qiime) (April 2014) from study id 550. Here I created a ``body_habitat_basic`` column, which reflects the known grouping of the samples into gut, oral, and skin/other microbial communities (as presented in Figure 1 of [Costello et al. (2009)](http://www.ncbi.nlm.nih.gov/pubmed/19892944)). "
     ]
    },
    {
     "cell_type": "code",
     "collapsed": false,
     "input": [
      "whole_body_df = pd.read_csv('whole-body-map-raw.txt', sep='\\t', index_col='#SampleID', parse_dates=['COLLECTION_DATE'])"
     ],
     "language": "python",
     "metadata": {},
     "outputs": [],
     "prompt_number": 8
    },
    {
     "cell_type": "code",
     "collapsed": false,
     "input": [
      "env_matter_to_body_habitat_basic = {'ENVO:mucus':'skin/other', 'ENVO:sebum':'skin/other', 'ENVO:sweat':'skin/other', \n",
      "                                    'ENVO:ear wax':'skin/other', 'ENVO:feces':'gut', 'ENVO:urine':'skin/other', 'ENVO:saliva':'oral'}\n",
      "\n",
      "whole_body_df['body_habitat_basic'] = [env_matter_to_body_habitat_basic[env_matter] for env_matter in whole_body_df['ENV_MATTER']]"
     ],
     "language": "python",
     "metadata": {},
     "outputs": [],
     "prompt_number": 9
    },
    {
     "cell_type": "code",
     "collapsed": false,
     "input": [
      "print whole_body_df['body_habitat_basic']"
     ],
     "language": "python",
     "metadata": {},
     "outputs": [
      {
       "output_type": "stream",
       "stream": "stdout",
       "text": [
        "#SampleID\n",
        "F33Nost.140487    skin/other\n",
        "M11Plml.140620    skin/other\n",
        "M12Aptr.140800    skin/other\n",
        "F21Ewxr.140299    skin/other\n",
        "M41Fcsp.140643           gut\n",
        "F22Fcsw.140281           gut\n",
        "M54Nost.140835    skin/other\n",
        "F13Plml.140601    skin/other\n",
        "M23Urin.140740    skin/other\n",
        "M34Plml.140373    skin/other\n",
        "F22Urin.140306    skin/other\n",
        "M12Forl.140812    skin/other\n",
        "F12Mout.140450          oral\n",
        "M42Plml.140513    skin/other\n",
        "M14Knee.140681    skin/other\n",
        "...\n",
        "F32Nose.140543    skin/other\n",
        "M31Ewxr.140754    skin/other\n",
        "F32Plml.140737    skin/other\n",
        "M42Kner.140502    skin/other\n",
        "M34Frhd.140638    skin/other\n",
        "F23Nost.140510    skin/other\n",
        "M32Fcsp.140470           gut\n",
        "M21Urin.140335    skin/other\n",
        "F33Knee.140702    skin/other\n",
        "M22Hair.140456    skin/other\n",
        "F24Uric.140658    skin/other\n",
        "M44Uric.140688    skin/other\n",
        "M22Pinl.140526    skin/other\n",
        "F31Indr.140675    skin/other\n",
        "F31Nstr.140608    skin/other\n",
        "Name: body_habitat_basic, Length: 602, dtype: object\n"
       ]
      }
     ],
     "prompt_number": 10
    },
    {
     "cell_type": "code",
     "collapsed": false,
     "input": [
      "whole_body_df.to_csv('whole-body-map.txt', sep='\\t', index_col='#SampleID')"
     ],
     "language": "python",
     "metadata": {},
     "outputs": [],
     "prompt_number": 11
    }
   ],
   "metadata": {}
  }
 ]
}